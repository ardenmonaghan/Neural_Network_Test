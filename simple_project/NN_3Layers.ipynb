{
 "cells": [
  {
   "cell_type": "code",
   "execution_count": 1,
   "metadata": {},
   "outputs": [],
   "source": [
    "import numpy as np\n",
    "import matplotlib.pyplot as plt\n",
    "import pandas as pd"
   ]
  },
  {
   "cell_type": "code",
   "execution_count": 38,
   "metadata": {},
   "outputs": [
    {
     "name": "stdout",
     "output_type": "stream",
     "text": [
      "       label  pixel0  pixel1  pixel2  pixel3  pixel4  pixel5  pixel6  pixel7  \\\n",
      "0          1       0       0       0       0       0       0       0       0   \n",
      "1          0       0       0       0       0       0       0       0       0   \n",
      "2          1       0       0       0       0       0       0       0       0   \n",
      "3          4       0       0       0       0       0       0       0       0   \n",
      "4          0       0       0       0       0       0       0       0       0   \n",
      "...      ...     ...     ...     ...     ...     ...     ...     ...     ...   \n",
      "41995      0       0       0       0       0       0       0       0       0   \n",
      "41996      1       0       0       0       0       0       0       0       0   \n",
      "41997      7       0       0       0       0       0       0       0       0   \n",
      "41998      6       0       0       0       0       0       0       0       0   \n",
      "41999      9       0       0       0       0       0       0       0       0   \n",
      "\n",
      "       pixel8  ...  pixel774  pixel775  pixel776  pixel777  pixel778  \\\n",
      "0           0  ...         0         0         0         0         0   \n",
      "1           0  ...         0         0         0         0         0   \n",
      "2           0  ...         0         0         0         0         0   \n",
      "3           0  ...         0         0         0         0         0   \n",
      "4           0  ...         0         0         0         0         0   \n",
      "...       ...  ...       ...       ...       ...       ...       ...   \n",
      "41995       0  ...         0         0         0         0         0   \n",
      "41996       0  ...         0         0         0         0         0   \n",
      "41997       0  ...         0         0         0         0         0   \n",
      "41998       0  ...         0         0         0         0         0   \n",
      "41999       0  ...         0         0         0         0         0   \n",
      "\n",
      "       pixel779  pixel780  pixel781  pixel782  pixel783  \n",
      "0             0         0         0         0         0  \n",
      "1             0         0         0         0         0  \n",
      "2             0         0         0         0         0  \n",
      "3             0         0         0         0         0  \n",
      "4             0         0         0         0         0  \n",
      "...         ...       ...       ...       ...       ...  \n",
      "41995         0         0         0         0         0  \n",
      "41996         0         0         0         0         0  \n",
      "41997         0         0         0         0         0  \n",
      "41998         0         0         0         0         0  \n",
      "41999         0         0         0         0         0  \n",
      "\n",
      "[42000 rows x 785 columns]\n"
     ]
    }
   ],
   "source": [
    "train_data = pd.read_csv('train.csv')\n",
    "\n",
    "print(train_data)"
   ]
  },
  {
   "cell_type": "code",
   "execution_count": 39,
   "metadata": {},
   "outputs": [],
   "source": [
    "# (Rows, Columns)\n",
    "# M is rows n is columns \n",
    "# When we transpose the data we get Columns, Rows\n",
    "\n",
    "data = np.array(train_data)\n",
    "m, n = data.shape\n",
    "np.random.shuffle(data) # shuffle before splitting into dev and training sets\n",
    "\n",
    "#you need to divide X_train and X_test by 255 Normalizing the data\n",
    "data_train = data.T\n",
    "Y_train = data_train[0]\n",
    "X_train = data_train[1:n]\n",
    "X_train = X_train / 255.\n",
    "_,m_train = X_train.shape"
   ]
  },
  {
   "cell_type": "code",
   "execution_count": 40,
   "metadata": {},
   "outputs": [
    {
     "data": {
      "text/plain": [
       "array([[0., 0., 0., ..., 0., 0., 0.],\n",
       "       [0., 0., 0., ..., 0., 0., 0.],\n",
       "       [0., 0., 0., ..., 0., 0., 0.],\n",
       "       ...,\n",
       "       [0., 0., 0., ..., 0., 0., 0.],\n",
       "       [0., 0., 0., ..., 0., 0., 0.],\n",
       "       [0., 0., 0., ..., 0., 0., 0.]], shape=(784, 42000))"
      ]
     },
     "execution_count": 40,
     "metadata": {},
     "output_type": "execute_result"
    }
   ],
   "source": [
    "X_train[:,0].shape\n",
    "X_train"
   ]
  },
  {
   "cell_type": "code",
   "execution_count": 41,
   "metadata": {},
   "outputs": [
    {
     "data": {
      "text/plain": [
       "array([1, 2, 5, ..., 9, 7, 3], shape=(42000,))"
      ]
     },
     "execution_count": 41,
     "metadata": {},
     "output_type": "execute_result"
    }
   ],
   "source": [
    "Y_train"
   ]
  },
  {
   "cell_type": "code",
   "execution_count": 42,
   "metadata": {},
   "outputs": [],
   "source": [
    "def initialize_parameters():\n",
    "    # W1 is the weight vector for the first layer\n",
    "    #784 for the number for features so 784 weights \n",
    "    #10 first layer has 10 neurons (10 output classes)\n",
    "\n",
    "    #Note in Numpy even though we have 20 x 1 for bias term and 20 x 41000 for that first layer \n",
    "    #we can still do the dot product because we are using broadcasting\n",
    "\n",
    "    \n",
    "    # Preventing the exploding gradient problem\n",
    "    W1 = np.random.randn(128, 784) * np.sqrt(2./784)  # Bigger first hidden layer\n",
    "    b1 = np.zeros((128, 1))\n",
    "    W2 = np.random.randn(64, 128) * np.sqrt(2./128)   # Second hidden layer\n",
    "    b2 = np.zeros((64, 1))\n",
    "    W3 = np.random.randn(10, 64) * np.sqrt(2./64)     # Output layer\n",
    "    b3 = np.zeros((10, 1))\n",
    "    return W1, b1, W2, b2, W3, b3\n",
    "\n",
    "def RELU(Z):\n",
    "    return np.maximum(0, Z)\n",
    "\n",
    "def softmax(Z):\n",
    "    A = np.exp(Z) / sum(np.exp(Z))\n",
    "    return A\n",
    "\n",
    "def one_hot(Y):\n",
    "    one_hot_Y = np.zeros((Y.size, Y.max() + 1))\n",
    "    one_hot_Y[np.arange(Y.size), Y] = 1\n",
    "    return one_hot_Y.T\n",
    "\n",
    "def ReLU_deriv(Z):\n",
    "    return Z > 0"
   ]
  },
  {
   "cell_type": "code",
   "execution_count": 43,
   "metadata": {},
   "outputs": [],
   "source": [
    "def forward_prop(w1, b1, w2, b2, w3, b3, X):\n",
    "    Z1 = np.dot(w1, X) + b1\n",
    "    A1 = RELU(Z1)\n",
    "\n",
    "    Z2 = np.dot(w2, A1) + b2\n",
    "    A2 = RELU(Z2)\n",
    "\n",
    "    Z3 = np.dot(w3, A2) + b3\n",
    "    A3 = softmax(Z3)\n",
    "\n",
    "    return Z1, A1, Z2, A2, Z3, A3\n",
    "\n",
    "def back_prop(Z1, A1, Z2, A2, Z3, A3, w2, w3, X, Y):\n",
    "\n",
    "    one_hot_Y = one_hot(Y)\n",
    "\n",
    "    dZ3 = A3 - one_hot_Y\n",
    "    dW3 = np.dot(dZ3, A2.T) / m\n",
    "    db3 = np.sum(dZ3) / m\n",
    "\n",
    "    dZ2 = np.dot(w3.T, dZ3) * ReLU_deriv(Z2)\n",
    "    dW2 = np.dot(dZ2, X.T) / m\n",
    "    db2 = np.sum(dZ2) / m\n",
    "\n",
    "\n",
    "    dZ1 = np.dot(w2.T, dZ2) * ReLU_deriv(Z1)\n",
    "    dW1 = np.dot(dZ1, X.T) / m\n",
    "    db1 = np.sum(dZ1) / m\n",
    "\n",
    "    return dW1, db1, dW2, db2, dW3, db3\n",
    "\n",
    "\n",
    "def update_params(w1, b1, w2, b2, w3, b3, dW1, db1, dW2, db2, dW3, db3, step_size):\n",
    "    w1 = w1 - step_size * dW1\n",
    "    b1 = b1 - step_size * db1\n",
    "    w2 = w2 - step_size * dW2\n",
    "    b2 = b2 - step_size * db2\n",
    "    w3 = w3 - step_size * dW3\n",
    "    b3 = b3 - step_size * db3\n",
    "    return w1, b1, w2, b2, w3, b3\n",
    "\n",
    "def get_predictions(A3):\n",
    "    return np.argmax(A3, 0)\n",
    "\n",
    "def get_accuracy(predictions, Y):\n",
    "    print(predictions, Y)\n",
    "    return np.sum(predictions == Y) / Y.size\n",
    "\n",
    "def gradient_descent(X, Y, epochs, step_size):\n",
    "    w1, b1, w2, b2, w3, b3 = initialize_parameters()\n",
    "\n",
    "    for i in range(epochs):\n",
    "        #forward prop\n",
    "        Z1, A1, Z2, A2, Z3, A3 = forward_prop(w1, b1, w2, b2, w3, b3, X)\n",
    "        #backward prop\n",
    "        dW1, db1, dW2, db2, dW3, db3 = back_prop(Z1, A1, Z2, A2, Z3, A3, w2, w3, X, Y)\n",
    "\n",
    "        #Update params\n",
    "        w1, b1, w2, b2, w3, b3 = update_params(w1, b1, w2, b2, w3, b3, dW1, db1, dW2, db2, dW3, db3, step_size)\n",
    "\n",
    "        if i % 10 == 0:\n",
    "            print(\"Iteration: \", i)\n",
    "            predictions = get_predictions(A2)\n",
    "            print(get_accuracy(predictions, Y))\n",
    "\n",
    "    return w1, b1, w2, b2, w3, b3\n",
    "\n",
    "\n"
   ]
  },
  {
   "cell_type": "code",
   "execution_count": 44,
   "metadata": {},
   "outputs": [
    {
     "ename": "ValueError",
     "evalue": "operands could not be broadcast together with shapes (64,128) (64,784) ",
     "output_type": "error",
     "traceback": [
      "\u001b[0;31m---------------------------------------------------------------------------\u001b[0m",
      "\u001b[0;31mValueError\u001b[0m                                Traceback (most recent call last)",
      "Cell \u001b[0;32mIn[44], line 1\u001b[0m\n\u001b[0;32m----> 1\u001b[0m W1, b1, W2, b2, W3, b3 \u001b[38;5;241m=\u001b[39m \u001b[43mgradient_descent\u001b[49m\u001b[43m(\u001b[49m\u001b[43mX_train\u001b[49m\u001b[43m,\u001b[49m\u001b[43m \u001b[49m\u001b[43mY_train\u001b[49m\u001b[43m,\u001b[49m\u001b[43m \u001b[49m\u001b[38;5;241;43m500\u001b[39;49m\u001b[43m,\u001b[49m\u001b[43m \u001b[49m\u001b[38;5;241;43m0.1\u001b[39;49m\u001b[43m)\u001b[49m\n",
      "Cell \u001b[0;32mIn[43], line 59\u001b[0m, in \u001b[0;36mgradient_descent\u001b[0;34m(X, Y, epochs, step_size)\u001b[0m\n\u001b[1;32m     56\u001b[0m dW1, db1, dW2, db2, dW3, db3 \u001b[38;5;241m=\u001b[39m back_prop(Z1, A1, Z2, A2, Z3, A3, w2, w3, X, Y)\n\u001b[1;32m     58\u001b[0m \u001b[38;5;66;03m#Update params\u001b[39;00m\n\u001b[0;32m---> 59\u001b[0m w1, b1, w2, b2, w3, b3 \u001b[38;5;241m=\u001b[39m \u001b[43mupdate_params\u001b[49m\u001b[43m(\u001b[49m\u001b[43mw1\u001b[49m\u001b[43m,\u001b[49m\u001b[43m \u001b[49m\u001b[43mb1\u001b[49m\u001b[43m,\u001b[49m\u001b[43m \u001b[49m\u001b[43mw2\u001b[49m\u001b[43m,\u001b[49m\u001b[43m \u001b[49m\u001b[43mb2\u001b[49m\u001b[43m,\u001b[49m\u001b[43m \u001b[49m\u001b[43mw3\u001b[49m\u001b[43m,\u001b[49m\u001b[43m \u001b[49m\u001b[43mb3\u001b[49m\u001b[43m,\u001b[49m\u001b[43m \u001b[49m\u001b[43mdW1\u001b[49m\u001b[43m,\u001b[49m\u001b[43m \u001b[49m\u001b[43mdb1\u001b[49m\u001b[43m,\u001b[49m\u001b[43m \u001b[49m\u001b[43mdW2\u001b[49m\u001b[43m,\u001b[49m\u001b[43m \u001b[49m\u001b[43mdb2\u001b[49m\u001b[43m,\u001b[49m\u001b[43m \u001b[49m\u001b[43mdW3\u001b[49m\u001b[43m,\u001b[49m\u001b[43m \u001b[49m\u001b[43mdb3\u001b[49m\u001b[43m,\u001b[49m\u001b[43m \u001b[49m\u001b[43mstep_size\u001b[49m\u001b[43m)\u001b[49m\n\u001b[1;32m     61\u001b[0m \u001b[38;5;28;01mif\u001b[39;00m i \u001b[38;5;241m%\u001b[39m \u001b[38;5;241m10\u001b[39m \u001b[38;5;241m==\u001b[39m \u001b[38;5;241m0\u001b[39m:\n\u001b[1;32m     62\u001b[0m     \u001b[38;5;28mprint\u001b[39m(\u001b[38;5;124m\"\u001b[39m\u001b[38;5;124mIteration: \u001b[39m\u001b[38;5;124m\"\u001b[39m, i)\n",
      "Cell \u001b[0;32mIn[43], line 36\u001b[0m, in \u001b[0;36mupdate_params\u001b[0;34m(w1, b1, w2, b2, w3, b3, dW1, db1, dW2, db2, dW3, db3, step_size)\u001b[0m\n\u001b[1;32m     34\u001b[0m w1 \u001b[38;5;241m=\u001b[39m w1 \u001b[38;5;241m-\u001b[39m step_size \u001b[38;5;241m*\u001b[39m dW1\n\u001b[1;32m     35\u001b[0m b1 \u001b[38;5;241m=\u001b[39m b1 \u001b[38;5;241m-\u001b[39m step_size \u001b[38;5;241m*\u001b[39m db1\n\u001b[0;32m---> 36\u001b[0m w2 \u001b[38;5;241m=\u001b[39m \u001b[43mw2\u001b[49m\u001b[43m \u001b[49m\u001b[38;5;241;43m-\u001b[39;49m\u001b[43m \u001b[49m\u001b[43mstep_size\u001b[49m\u001b[43m \u001b[49m\u001b[38;5;241;43m*\u001b[39;49m\u001b[43m \u001b[49m\u001b[43mdW2\u001b[49m\n\u001b[1;32m     37\u001b[0m b2 \u001b[38;5;241m=\u001b[39m b2 \u001b[38;5;241m-\u001b[39m step_size \u001b[38;5;241m*\u001b[39m db2\n\u001b[1;32m     38\u001b[0m w3 \u001b[38;5;241m=\u001b[39m w3 \u001b[38;5;241m-\u001b[39m step_size \u001b[38;5;241m*\u001b[39m dW3\n",
      "\u001b[0;31mValueError\u001b[0m: operands could not be broadcast together with shapes (64,128) (64,784) "
     ]
    }
   ],
   "source": [
    "W1, b1, W2, b2, W3, b3 = gradient_descent(X_train, Y_train, 500, 0.1)"
   ]
  },
  {
   "cell_type": "code",
   "execution_count": null,
   "metadata": {},
   "outputs": [],
   "source": []
  },
  {
   "cell_type": "code",
   "execution_count": null,
   "metadata": {},
   "outputs": [],
   "source": []
  }
 ],
 "metadata": {
  "kernelspec": {
   "display_name": ".venv",
   "language": "python",
   "name": "python3"
  },
  "language_info": {
   "codemirror_mode": {
    "name": "ipython",
    "version": 3
   },
   "file_extension": ".py",
   "mimetype": "text/x-python",
   "name": "python",
   "nbconvert_exporter": "python",
   "pygments_lexer": "ipython3",
   "version": "3.10.9"
  }
 },
 "nbformat": 4,
 "nbformat_minor": 2
}
