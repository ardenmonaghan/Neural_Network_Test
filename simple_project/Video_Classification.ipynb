{
 "cells": [
  {
   "cell_type": "code",
   "execution_count": null,
   "metadata": {},
   "outputs": [],
   "source": [
    "# things to know\n",
    "# 1. Neural Networks\n",
    "# 2. Convolutional Neural Networks\n",
    "# 3. Recurrent Neural Networks\n",
    "\n",
    "#(Channels, Frames, Height, Width) For videos vs (Channels, Height, Width) for images"
   ]
  },
  {
   "cell_type": "code",
   "execution_count": null,
   "metadata": {},
   "outputs": [],
   "source": [
    "# Decision Trees\n",
    "# Multimodal Models\n",
    "# Vision Transformers Instead of using CNNs ViT treat an image as a sequence of patches"
   ]
  },
  {
   "cell_type": "code",
   "execution_count": null,
   "metadata": {},
   "outputs": [],
   "source": []
  }
 ],
 "metadata": {
  "language_info": {
   "name": "python"
  }
 },
 "nbformat": 4,
 "nbformat_minor": 2
}
