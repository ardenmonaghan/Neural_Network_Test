{
 "cells": [
  {
   "cell_type": "code",
   "execution_count": 120,
   "metadata": {},
   "outputs": [],
   "source": [
    "# This is a test of the PyTorch library for neural networks\n",
    "\n",
    "import torch\n",
    "import numpy as np\n",
    "import torch.nn as nn\n",
    "from torch.utils.data import Dataset\n",
    "from torchvision.transforms import ToTensor\n",
    "from torchvision import datasets, transforms\n",
    "from torch.utils.data import DataLoader\n",
    "import matplotlib.pyplot as plt"
   ]
  },
  {
   "cell_type": "markdown",
   "metadata": {},
   "source": [
    "## This notebook is the test of the PyTorch library for neural networks using the MSE Loss"
   ]
  },
  {
   "cell_type": "code",
   "execution_count": 121,
   "metadata": {},
   "outputs": [],
   "source": [
    "# Loading in the MNIST dataset\n",
    "\n",
    "# transforming pipeline\n",
    "transform = transforms.Compose([\n",
    "    transforms.ToTensor(),\n",
    "    transforms.Normalize((0.5,), (0.5,))\n",
    "])\n",
    "# loading the data\n",
    "training_data = datasets.MNIST(\n",
    "    root=\"data\",\n",
    "    train=True,\n",
    "    download=True,\n",
    "    transform=transform\n",
    ")\n",
    "\n",
    "testing_data = datasets.MNIST(\n",
    "    root=\"data\",\n",
    "    train=False,\n",
    "    download=True,\n",
    "    transform=transform\n",
    ")\n"
   ]
  },
  {
   "cell_type": "code",
   "execution_count": 122,
   "metadata": {},
   "outputs": [
    {
     "name": "stdout",
     "output_type": "stream",
     "text": [
      "60000\n",
      "5\n"
     ]
    },
    {
     "data": {
      "text/plain": [
       "torch.Size([1, 28, 28])"
      ]
     },
     "execution_count": 122,
     "metadata": {},
     "output_type": "execute_result"
    }
   ],
   "source": [
    "print(len(training_data)) #The amount of samples in the dataset\n",
    "\n",
    "#Note this is a tuple\n",
    "#training_data[0]\n",
    "\n",
    "#so we can access the label by \n",
    "image, label = training_data[0]  # Sample has 28x28 pixels\n",
    "print(label) #this is the label for the data\n",
    "\n",
    "image.shape #this is the shape of the image"
   ]
  },
  {
   "cell_type": "code",
   "execution_count": 123,
   "metadata": {},
   "outputs": [
    {
     "data": {
      "image/png": "[encoded data removed]",
      "text/plain": [
       "<Figure size 640x480 with 1 Axes>"
      ]
     },
     "metadata": {},
     "output_type": "display_data"
    }
   ],
   "source": [
    "image, label = training_data[0]  # Sample has 28x28 pixels\n",
    "\n",
    "# Display the image using matplotlib\n",
    "plt.imshow(image.squeeze(), cmap='gray')  # Remove single channel with squeeze()\n",
    "plt.title(f\"Digit Label: {label}\")\n",
    "plt.axis('off')  # Turn off axis\n",
    "plt.show()"
   ]
  },
  {
   "cell_type": "markdown",
   "metadata": {},
   "source": [
    "### Batch Size: is the number of samples that we want to pass through the network at a time\n",
    "### Epochs: is the number of times we want to pass through the entire dataset\n",
    "### Learning Rate: is the step size for the gradient descent"
   ]
  },
  {
   "cell_type": "code",
   "execution_count": 124,
   "metadata": {},
   "outputs": [],
   "source": [
    "# Note we are doing MLP (Multi Layer Perceptron) method and not CNN (Convolutional Neural Network)\n",
    "class NeuralNetwork(nn.Module):\n",
    "    def __init__(self):\n",
    "        super().__init__()\n",
    "        self.flatten = nn.Flatten()\n",
    "        self.linear_relu_stack = nn.Sequential(\n",
    "            #28*28 is the number of features which is all of the pixels inside of an image and this will be done for each image\n",
    "            nn.Linear(in_features=28*28, out_features=20), #outfeatures is the neurons in the next layer that we want to have.\n",
    "            nn.ReLU(), #relu is the activation function\n",
    "            nn.Linear(20, 10),\n",
    "            nn.Softmax(dim=1) #softmax to get the probability of each class between 0 and 1\n",
    "        )\n",
    "\n",
    "    def forward(self, x):\n",
    "        #take in all the x features and pass it through the layers with all the rows.\n",
    "        x = self.flatten(x)\n",
    "        logits = self.linear_relu_stack(x)\n",
    "        return logits\n"
   ]
  },
  {
   "cell_type": "code",
   "execution_count": 125,
   "metadata": {},
   "outputs": [
    {
     "name": "stdout",
     "output_type": "stream",
     "text": [
      "torch.Size([64, 1, 28, 28])\n",
      "torch.Size([64])\n",
      "torch.Size([64, 10])\n"
     ]
    },
    {
     "data": {
      "text/plain": [
       "937"
      ]
     },
     "execution_count": 125,
     "metadata": {},
     "output_type": "execute_result"
    }
   ],
   "source": [
    "#Note we have training_data and test_data, we will drop the last batch as it will mess with the encoding dimensions.\n",
    "train_dataloader = DataLoader(training_data, batch_size=64, drop_last=True)\n",
    "test_dataloader = DataLoader(testing_data, batch_size=64, drop_last=True)\n",
    "\n",
    "\n",
    "# #Dataloader is a way to load the data in batches\n",
    "# for batch in train_dataloader:\n",
    "#     print(batch) #batches are in size of 64\n",
    "\n",
    "for batch in train_dataloader:\n",
    "    images, labels = batch\n",
    "    print(images.shape)  # e.g., torch.Size([64, 1, 28, 28])\n",
    "    print(labels.shape)  # e.g., torch.Size([64])\n",
    "\n",
    "    labels_one_hot = torch.zeros(labels.shape[0], 10)\n",
    "    labels_one_hot.scatter_(1, labels.unsqueeze(1).long(), 1)\n",
    "    print(labels_one_hot.shape)\n",
    "    break\n",
    "\n",
    "\n",
    "\n",
    "\n",
    "\n",
    "#[64, 1, 28, 28]\n",
    "#28x28 is the width and height\n",
    "# 1 is the channel\n",
    "#64 is the batch size, so we converted the data into 64 sized batches\n",
    "\n",
    "#remember we ave batches and label\n",
    "len(train_dataloader) #938 * 64 = 60032 last batch has less than 64 938 batches"
   ]
  },
  {
   "cell_type": "markdown",
   "metadata": {},
   "source": [
    "## Notes:\n",
    "\n",
    "- For batch sizes in tensors, they are the first dimension. When we grab the batch the X and y values will have the batch size as the first dimension.\n",
    "- This is noted by when we do train_dataloader and set the batch size. After iterating through a value it has the shape of [64, 1, 28, 28] and [64]\n",
    "- when we do one hot encoding technically we have a [64, 1] shape for the labels, but when we do torch.zeros(y.shape[0], 10) we are creating a tensor of shape [64, 10] where it may look like\n",
    "-[0, 0, 0, 0, 0, 0, 0, 0, 0, 0] "
   ]
  },
  {
   "cell_type": "code",
   "execution_count": 147,
   "metadata": {},
   "outputs": [],
   "source": [
    "class TrainingData(Dataset):\n",
    "    def __init__(self):\n",
    "        #using mean squared error loss function similar to prev implementation\n",
    "        self.lossfn = nn.MSELoss()\n",
    "\n",
    "    def gradient_descent(self, model, dataloader, optimizer):\n",
    "        ''' we are minimizing the loss function for each batch\n",
    "        model: the NN model that we used to make a prediction\n",
    "        optimizer: the optimizer that we used to update the weights\n",
    "        train_dataloader: the dataloader that we used to load the data\n",
    "\n",
    "        '''\n",
    "        size = len(dataloader)\n",
    "\n",
    "        # Enumeration step gets the index of the current batch (X,y) X is the tenor containing the input feature ie image and y is the label.\n",
    "        for batch, (X, y) in enumerate(dataloader):\n",
    "            # Doing one hot encoding for the labels\n",
    "\n",
    "            #creates a 0 tensor of shape batch size x 10\n",
    "            y_one_hot = torch.zeros(y.shape[0], 10)\n",
    "            y_one_hot.scatter_(1, y.unsqueeze(1).long(), 1)\n",
    "\n",
    "\n",
    "            prediction = model.forward(X)\n",
    "\n",
    "            # print(prediction.shape)\n",
    "            loss = self.lossfn(prediction, y_one_hot)\n",
    "\n",
    "            #Perform the backpropagation step for each layer in the model\n",
    "            #Calculates all of the partial derivatives of the loss function with respect to the weights and biases\n",
    "            loss.backward()\n",
    "\n",
    "            optimizer.step()\n",
    "            #prevents the gradient from accumulating\n",
    "            optimizer.zero_grad()\n",
    "\n",
    "            total = 1\n",
    "            correct = 0\n",
    "            #print(y.shape)\n",
    "            _, predicted = torch.max(prediction.data, 1)\n",
    "            #print(predicted.shape, \"P\")\n",
    "            total += y.size(0)\n",
    "            correct += (predicted == y).sum().item()\n",
    "\n",
    "            if batch % 100 == 0:\n",
    "                loss, current = loss.item(), batch * len(X)\n",
    "                accuracy = 100 * correct / total\n",
    "                print(f\"loss: {loss:>7f}  [{current:>5d}/{size*64:>5d}]\")\n",
    "                print(\"accuracy: \", accuracy)\n",
    "\n",
    "    def test_model(self, model, dataloader):\n",
    "        '''\n",
    "        model: the NN model that we used to make a prediction\n",
    "        dataloader: the dataloader that we used to load the data\n",
    "        '''\n",
    "        model.eval()\n",
    "        size = len(dataloader.dataset)\n",
    "        num_batches = len(dataloader)\n",
    "        test_loss, correct = 0, 0\n",
    "\n",
    "        with torch.no_grad():\n",
    "            for X, y in dataloader:\n",
    "                #one hot encoding the labels for the testing data\n",
    "                y_one_hot = torch.zeros(y.shape[0], 10)\n",
    "                y_one_hot.scatter_(1, y.unsqueeze(1).long(), 1)\n",
    "\n",
    "                pred = model.forward(X)\n",
    "\n",
    "                test_loss += self.lossfn(pred, y_one_hot).item()\n",
    "                _, pred_indices = torch.max(pred.data, dim=1)\n",
    "    \n",
    "                correct += (pred_indices == y).type(torch.float).sum().item() \n",
    "\n",
    "        test_loss /= num_batches\n",
    "        correct /= size\n",
    "        print(f\"Test Error: \\n Accuracy: {(100*correct):>0.1f}%, Avg loss: {test_loss:>8f} \\n\")\n",
    "\n",
    "\n"
   ]
  },
  {
   "cell_type": "code",
   "execution_count": 148,
   "metadata": {},
   "outputs": [
    {
     "name": "stdout",
     "output_type": "stream",
     "text": [
      "Epoch 1\n",
      "-------------------------------\n",
      "loss: 0.090569  [    0/59968]\n",
      "accuracy:  12.307692307692308\n",
      "loss: 0.089877  [ 6400/59968]\n",
      "accuracy:  20.0\n",
      "loss: 0.089914  [12800/59968]\n",
      "accuracy:  4.615384615384615\n",
      "loss: 0.089765  [19200/59968]\n",
      "accuracy:  20.0\n",
      "loss: 0.090113  [25600/59968]\n",
      "accuracy:  12.307692307692308\n",
      "loss: 0.088821  [32000/59968]\n",
      "accuracy:  21.53846153846154\n",
      "loss: 0.086876  [38400/59968]\n",
      "accuracy:  33.84615384615385\n",
      "loss: 0.087718  [44800/59968]\n",
      "accuracy:  32.30769230769231\n",
      "loss: 0.087419  [51200/59968]\n",
      "accuracy:  26.153846153846153\n",
      "loss: 0.085743  [57600/59968]\n",
      "accuracy:  35.38461538461539\n",
      "Epoch 2\n",
      "-------------------------------\n",
      "loss: 0.086245  [    0/59968]\n",
      "accuracy:  33.84615384615385\n",
      "loss: 0.085642  [ 6400/59968]\n",
      "accuracy:  35.38461538461539\n",
      "loss: 0.086136  [12800/59968]\n",
      "accuracy:  24.615384615384617\n",
      "loss: 0.085241  [19200/59968]\n",
      "accuracy:  23.076923076923077\n",
      "loss: 0.086220  [25600/59968]\n",
      "accuracy:  26.153846153846153\n",
      "loss: 0.084120  [32000/59968]\n",
      "accuracy:  33.84615384615385\n",
      "loss: 0.079798  [38400/59968]\n",
      "accuracy:  46.15384615384615\n",
      "loss: 0.083139  [44800/59968]\n",
      "accuracy:  38.46153846153846\n",
      "loss: 0.082381  [51200/59968]\n",
      "accuracy:  38.46153846153846\n",
      "loss: 0.078605  [57600/59968]\n",
      "accuracy:  44.61538461538461\n",
      "Done!\n"
     ]
    }
   ],
   "source": [
    "# Running the model and minizing the loss function using the gradient descent method with epochs\n",
    "epochs = 10\n",
    "learning_rate = 0.01\n",
    "\n",
    "model = NeuralNetwork()\n",
    "# loss_fn = nn.CrossEntropyLoss()\n",
    "\n",
    "optimizer = torch.optim.SGD(model.parameters(), lr=learning_rate)\n",
    "TrainingData = TrainingData()\n",
    "\n",
    "for t in range(epochs):\n",
    "    print(f\"Epoch {t+1}\\n-------------------------------\")\n",
    "    TrainingData.gradient_descent(model, train_dataloader, optimizer)\n",
    "\n",
    "print(\"Done!\")"
   ]
  },
  {
   "cell_type": "code",
   "execution_count": 149,
   "metadata": {},
   "outputs": [
    {
     "name": "stdout",
     "output_type": "stream",
     "text": [
      "Test Error: \n",
      " Accuracy: 40.8%, Avg loss: 0.080261 \n",
      "\n",
      "Done!\n"
     ]
    }
   ],
   "source": [
    "# Running model on testing data\n",
    "TrainingData.test_model(model, test_dataloader)\n",
    "print(\"Done!\")\n"
   ]
  },
  {
   "cell_type": "markdown",
   "metadata": {},
   "source": [
    "## Summary of Tensors:\n",
    "1. Batch dimension [61, 1, 28, 28] the first dimension is the batch size where 64 is the number of images in the batch.\n",
    "2. 1 is the number of channels (greyscale or RGB)\n",
    "3. 28 is the width of the image\n",
    "4. 28 is the height of the image\n",
    "\n",
    "- Labels in Pytorch are usually just [batch_size] where each entry is a single integer class ex 3 for digit 3\n",
    "\n",
    "- Flattening is turning a multi-dimensional tensor into a 1D tensor. Only affecting the row and column dimensions. \n",
    "- One hot encoding is turning a 1D tensor into a 2D tensor where the first dimension is the batch size and the second dimension is the number of classes. Usually matched to the final layer of the neural network.\n",
    "\n"
   ]
  },
  {
   "cell_type": "code",
   "execution_count": null,
   "metadata": {},
   "outputs": [],
   "source": []
  }
 ],
 "metadata": {
  "kernelspec": {
   "display_name": "PyTorch",
   "language": "python",
   "name": "python3"
  },
  "language_info": {
   "codemirror_mode": {
    "name": "ipython",
    "version": 3
   },
   "file_extension": ".py",
   "mimetype": "text/x-python",
   "name": "python",
   "nbconvert_exporter": "python",
   "pygments_lexer": "ipython3",
   "version": "3.11.11"
  }
 },
 "nbformat": 4,
 "nbformat_minor": 2
}
