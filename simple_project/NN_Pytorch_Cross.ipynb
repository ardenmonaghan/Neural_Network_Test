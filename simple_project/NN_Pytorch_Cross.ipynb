{
 "cells": [
  {
   "cell_type": "code",
   "execution_count": 7,
   "metadata": {},
   "outputs": [],
   "source": [
    "# Cross entropy loss version of the code\n",
    "import torch\n",
    "import numpy as np\n",
    "import torch.nn as nn\n",
    "from torch.utils.data import Dataset\n",
    "from torchvision.transforms import ToTensor\n",
    "from torchvision import datasets, transforms\n",
    "from torch.utils.data import DataLoader\n",
    "import matplotlib.pyplot as plt"
   ]
  },
  {
   "cell_type": "markdown",
   "metadata": {},
   "source": [
    "## Notes:\n",
    "1. For cross entropy loss we do not need to do one hot encoding for the labels\n",
    "2. We do not need to use the softmax activation function as the cross entropy loss function already includes it.\n",
    "3. \n",
    "\n",
    "Mini-batch training (e.g., batch size 64 on MNIST):\n",
    "##\n",
    "60,000 training examples / 64 ≈ 937 mini-batches\n",
    "937 weight updates per epoch\n",
    "In 10 epochs, that’s ~9,370 total updates\n",
    "Full-batch training:\n",
    "##\n",
    "60,000 training examples in one batch\n",
    "1 weight update per epoch\n",
    "In 10 epochs, that’s only 10 total updates\n",
    "Even though both are “10 epochs,” mini-batch training is effectively doing way more frequent (and often more helpful) gradient steps. That’s why it can reach high accuracy in far fewer epochs.\n",
    "\n",
    "### fewer updates per epoch = slower convergence per epoch\n"
   ]
  },
  {
   "cell_type": "code",
   "execution_count": 8,
   "metadata": {},
   "outputs": [],
   "source": [
    "transform = transforms.Compose([\n",
    "    transforms.ToTensor(),\n",
    "    transforms.Normalize((0.5,), (0.5,))\n",
    "])\n",
    "# loading the data\n",
    "training_data = datasets.MNIST(\n",
    "    root=\"data\",\n",
    "    train=True,\n",
    "    download=True,\n",
    "    transform=transform\n",
    ")\n",
    "\n",
    "testing_data = datasets.MNIST(\n",
    "    root=\"data\",\n",
    "    train=False,\n",
    "    download=True,\n",
    "    transform=transform\n",
    ")"
   ]
  },
  {
   "cell_type": "code",
   "execution_count": 9,
   "metadata": {},
   "outputs": [
    {
     "name": "stdout",
     "output_type": "stream",
     "text": [
      "60000\n",
      "5\n"
     ]
    },
    {
     "data": {
      "text/plain": [
       "torch.Size([1, 28, 28])"
      ]
     },
     "execution_count": 9,
     "metadata": {},
     "output_type": "execute_result"
    }
   ],
   "source": [
    "print(len(training_data)) #The amount of samples in the dataset\n",
    "\n",
    "#Note this is a tuple\n",
    "#training_data[0]\n",
    "\n",
    "#so we can access the label by \n",
    "image, label = training_data[0]  # Sample has 28x28 pixels\n",
    "print(label) #this is the label for the data\n",
    "\n",
    "image.shape #this is the shape of the image"
   ]
  },
  {
   "cell_type": "code",
   "execution_count": 10,
   "metadata": {},
   "outputs": [
    {
     "data": {
      "image/png": "[encoded data removed]",
      "text/plain": [
       "<Figure size 640x480 with 1 Axes>"
      ]
     },
     "metadata": {},
     "output_type": "display_data"
    }
   ],
   "source": [
    "image, label = training_data[0]  # Sample has 28x28 pixels\n",
    "\n",
    "# Display the image using matplotlib\n",
    "plt.imshow(image.squeeze(), cmap='gray')  # Remove single channel with squeeze()\n",
    "plt.title(f\"Digit Label: {label}\")\n",
    "plt.axis('off')  # Turn off axis\n",
    "plt.show()"
   ]
  },
  {
   "cell_type": "code",
   "execution_count": 11,
   "metadata": {},
   "outputs": [],
   "source": [
    "# Note we are doing MLP (Multi Layer Perceptron) method and not CNN (Convolutional Neural Network)\n",
    "class NeuralNetwork(nn.Module):\n",
    "    def __init__(self):\n",
    "        super().__init__()\n",
    "        self.flatten = nn.Flatten()\n",
    "        self.linear_relu_stack = nn.Sequential(\n",
    "            #28*28 is the number of features which is all of the pixels inside of an image and this will be done for each image\n",
    "            nn.Linear(in_features=28*28, out_features=20), #outfeatures is the neurons in the next layer that we want to have.\n",
    "            nn.ReLU(), #relu is the activation function\n",
    "            nn.Linear(20, 10)\n",
    "        )\n",
    "        \n",
    "\n",
    "    def forward(self, x):\n",
    "        #take in all the x features and pass it through the layers with all the rows.\n",
    "        x = self.flatten(x)\n",
    "        logits = self.linear_relu_stack(x)\n",
    "        return logits\n"
   ]
  },
  {
   "cell_type": "markdown",
   "metadata": {},
   "source": [
    "## Dataloader\n",
    "\n",
    "We can put the dataset obejcts inside of a dataloader class to specify a batch_size\n",
    "the first dimension will be equal to the batch size."
   ]
  },
  {
   "cell_type": "code",
   "execution_count": 12,
   "metadata": {},
   "outputs": [
    {
     "name": "stdout",
     "output_type": "stream",
     "text": [
      "torch.Size([64, 1, 28, 28])\n",
      "torch.Size([64])\n"
     ]
    }
   ],
   "source": [
    "train_dataloader = DataLoader(training_data, batch_size=64, drop_last=True)\n",
    "test_dataloader = DataLoader(testing_data, batch_size=64, drop_last=True)\n",
    "\n",
    "\n",
    "# #Dataloader is a way to load the data in batches\n",
    "# for batch in train_dataloader:\n",
    "#     print(batch) #batches are in size of 64\n",
    "\n",
    "for batch in train_dataloader:\n",
    "    images, labels = batch\n",
    "    print(images.shape)  # e.g., torch.Size([64, 1, 28, 28])\n",
    "    print(labels.shape)  # e.g., torch.Size([64])\n",
    "    break"
   ]
  },
  {
   "cell_type": "code",
   "execution_count": 30,
   "metadata": {},
   "outputs": [],
   "source": [
    "class TrainingData(Dataset):\n",
    "    def __init__(self):\n",
    "        #using mean squared error loss function similar to prev implementation\n",
    "        self.lossfn = nn.CrossEntropyLoss()\n",
    "\n",
    "    def gradient_descent(self, model, dataloader, optimizer):\n",
    "        ''' we are minimizing the loss function for each batch\n",
    "        model: the NN model that we used to make a prediction\n",
    "        optimizer: the optimizer that we used to update the weights\n",
    "        train_dataloader: the dataloader that we used to load the data\n",
    "\n",
    "        '''\n",
    "        size = len(dataloader)\n",
    "\n",
    "        # Enumeration step gets the index of the current batch (X,y) X is the tenor containing the input feature ie image and y is the label.\n",
    "        for batch, (X, y) in enumerate(dataloader):\n",
    "            prediction = model.forward(X)\n",
    "            # print(prediction.shape)\n",
    "            # print(y.shape)\n",
    "            loss = self.lossfn(prediction, y)\n",
    "\n",
    "            #Perform the backpropagation step for each layer in the model\n",
    "            #Calculates all of the partial derivatives of the loss function with respect to the weights and biases\n",
    "            loss.backward()\n",
    "\n",
    "            optimizer.step()\n",
    "            #prevents the gradient from accumulating\n",
    "            optimizer.zero_grad()\n",
    "            correct = 0\n",
    "            total = 1\n",
    "            _, predicted = torch.max(prediction.data, 1)\n",
    "            total += y.size(0)\n",
    "            correct += (predicted == y).sum().item()\n",
    "            if batch % 100 == 0:\n",
    "                loss, current = loss.item(), batch * len(X)\n",
    "                print(f\"loss: {loss:>7f}  [{current:>5d}/{size:>5d}]\")\n",
    "                \n",
    "                \n",
    "        accuracy = 100 * correct / total \n",
    "        print(f\"Accuracy: {accuracy:>7f}  [{current:>5d}/{size:>5d}]\")"
   ]
  },
  {
   "cell_type": "code",
   "execution_count": 31,
   "metadata": {},
   "outputs": [
    {
     "name": "stdout",
     "output_type": "stream",
     "text": [
      "Epoch 1\n",
      "-------------------------------\n",
      "loss: 2.365488  [    0/  937]\n",
      "loss: 1.527867  [ 6400/  937]\n",
      "loss: 1.182376  [12800/  937]\n",
      "loss: 0.790609  [19200/  937]\n",
      "loss: 0.552362  [25600/  937]\n",
      "loss: 0.555169  [32000/  937]\n",
      "loss: 0.441997  [38400/  937]\n",
      "loss: 0.610332  [44800/  937]\n",
      "loss: 0.550044  [51200/  937]\n",
      "loss: 0.496991  [57600/  937]\n",
      "Accuracy: 86.153846  [57600/  937]\n",
      "Epoch 2\n",
      "-------------------------------\n",
      "loss: 0.411821  [    0/  937]\n",
      "loss: 0.307357  [ 6400/  937]\n",
      "loss: 0.358524  [12800/  937]\n",
      "loss: 0.417523  [19200/  937]\n",
      "loss: 0.281812  [25600/  937]\n",
      "loss: 0.377521  [32000/  937]\n",
      "loss: 0.282143  [38400/  937]\n",
      "loss: 0.444355  [44800/  937]\n",
      "loss: 0.450510  [51200/  937]\n",
      "loss: 0.449160  [57600/  937]\n",
      "Accuracy: 87.692308  [57600/  937]\n",
      "Epoch 3\n",
      "-------------------------------\n",
      "loss: 0.290754  [    0/  937]\n",
      "loss: 0.250213  [ 6400/  937]\n",
      "loss: 0.283116  [12800/  937]\n",
      "loss: 0.371281  [19200/  937]\n",
      "loss: 0.232635  [25600/  937]\n",
      "loss: 0.340794  [32000/  937]\n",
      "loss: 0.252266  [38400/  937]\n",
      "loss: 0.397880  [44800/  937]\n",
      "loss: 0.413980  [51200/  937]\n",
      "loss: 0.435686  [57600/  937]\n",
      "Accuracy: 90.769231  [57600/  937]\n",
      "Epoch 4\n",
      "-------------------------------\n",
      "loss: 0.236025  [    0/  937]\n",
      "loss: 0.236559  [ 6400/  937]\n",
      "loss: 0.252145  [12800/  937]\n",
      "loss: 0.354829  [19200/  937]\n",
      "loss: 0.212129  [25600/  937]\n",
      "loss: 0.320154  [32000/  937]\n",
      "loss: 0.239666  [38400/  937]\n",
      "loss: 0.376346  [44800/  937]\n",
      "loss: 0.386842  [51200/  937]\n",
      "loss: 0.425696  [57600/  937]\n",
      "Accuracy: 90.769231  [57600/  937]\n",
      "Epoch 5\n",
      "-------------------------------\n",
      "loss: 0.203997  [    0/  937]\n",
      "loss: 0.231005  [ 6400/  937]\n",
      "loss: 0.236672  [12800/  937]\n",
      "loss: 0.343907  [19200/  937]\n",
      "loss: 0.202387  [25600/  937]\n",
      "loss: 0.301864  [32000/  937]\n",
      "loss: 0.230689  [38400/  937]\n",
      "loss: 0.365486  [44800/  937]\n",
      "loss: 0.363618  [51200/  937]\n",
      "loss: 0.417518  [57600/  937]\n",
      "Accuracy: 90.769231  [57600/  937]\n",
      "Epoch 6\n",
      "-------------------------------\n",
      "loss: 0.182194  [    0/  937]\n",
      "loss: 0.228652  [ 6400/  937]\n",
      "loss: 0.225193  [12800/  937]\n",
      "loss: 0.334927  [19200/  937]\n",
      "loss: 0.196076  [25600/  937]\n",
      "loss: 0.293147  [32000/  937]\n",
      "loss: 0.220370  [38400/  937]\n",
      "loss: 0.358606  [44800/  937]\n",
      "loss: 0.341921  [51200/  937]\n",
      "loss: 0.408761  [57600/  937]\n",
      "Accuracy: 90.769231  [57600/  937]\n",
      "Epoch 7\n",
      "-------------------------------\n",
      "loss: 0.166990  [    0/  937]\n",
      "loss: 0.227431  [ 6400/  937]\n",
      "loss: 0.216740  [12800/  937]\n",
      "loss: 0.330735  [19200/  937]\n",
      "loss: 0.190956  [25600/  937]\n",
      "loss: 0.286692  [32000/  937]\n",
      "loss: 0.214056  [38400/  937]\n",
      "loss: 0.353170  [44800/  937]\n",
      "loss: 0.329651  [51200/  937]\n",
      "loss: 0.396098  [57600/  937]\n",
      "Accuracy: 90.769231  [57600/  937]\n",
      "Epoch 8\n",
      "-------------------------------\n",
      "loss: 0.154815  [    0/  937]\n",
      "loss: 0.224277  [ 6400/  937]\n",
      "loss: 0.209935  [12800/  937]\n",
      "loss: 0.328235  [19200/  937]\n",
      "loss: 0.185719  [25600/  937]\n",
      "loss: 0.277965  [32000/  937]\n",
      "loss: 0.208850  [38400/  937]\n",
      "loss: 0.350850  [44800/  937]\n",
      "loss: 0.321014  [51200/  937]\n",
      "loss: 0.380873  [57600/  937]\n",
      "Accuracy: 90.769231  [57600/  937]\n",
      "Epoch 9\n",
      "-------------------------------\n",
      "loss: 0.145728  [    0/  937]\n",
      "loss: 0.221230  [ 6400/  937]\n",
      "loss: 0.203502  [12800/  937]\n",
      "loss: 0.321814  [19200/  937]\n",
      "loss: 0.183006  [25600/  937]\n",
      "loss: 0.271890  [32000/  937]\n",
      "loss: 0.203446  [38400/  937]\n",
      "loss: 0.349455  [44800/  937]\n",
      "loss: 0.310993  [51200/  937]\n",
      "loss: 0.368307  [57600/  937]\n",
      "Accuracy: 92.307692  [57600/  937]\n",
      "Epoch 10\n",
      "-------------------------------\n",
      "loss: 0.138405  [    0/  937]\n",
      "loss: 0.220167  [ 6400/  937]\n",
      "loss: 0.195417  [12800/  937]\n",
      "loss: 0.313842  [19200/  937]\n",
      "loss: 0.180819  [25600/  937]\n",
      "loss: 0.265576  [32000/  937]\n",
      "loss: 0.197377  [38400/  937]\n",
      "loss: 0.344928  [44800/  937]\n",
      "loss: 0.303756  [51200/  937]\n",
      "loss: 0.358329  [57600/  937]\n",
      "Accuracy: 92.307692  [57600/  937]\n",
      "Done!\n"
     ]
    }
   ],
   "source": [
    "epochs = 10\n",
    "learning_rate = 0.01\n",
    "\n",
    "model = NeuralNetwork()\n",
    "\n",
    "\n",
    "optimizer = torch.optim.SGD(model.parameters(), lr=learning_rate)\n",
    "TrainingData = TrainingData()\n",
    "\n",
    "for t in range(epochs):\n",
    "    print(f\"Epoch {t+1}\\n-------------------------------\")\n",
    "    TrainingData.gradient_descent(model, train_dataloader, optimizer)\n",
    "\n",
    "print(\"Done!\")"
   ]
  },
  {
   "cell_type": "code",
   "execution_count": null,
   "metadata": {},
   "outputs": [],
   "source": []
  }
 ],
 "metadata": {
  "kernelspec": {
   "display_name": "PyTorch",
   "language": "python",
   "name": "python3"
  },
  "language_info": {
   "codemirror_mode": {
    "name": "ipython",
    "version": 3
   },
   "file_extension": ".py",
   "mimetype": "text/x-python",
   "name": "python",
   "nbconvert_exporter": "python",
   "pygments_lexer": "ipython3",
   "version": "3.11.11"
  }
 },
 "nbformat": 4,
 "nbformat_minor": 2
}
