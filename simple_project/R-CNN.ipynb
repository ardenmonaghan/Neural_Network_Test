{
 "cells": [
  {
   "cell_type": "code",
   "execution_count": 1,
   "metadata": {},
   "outputs": [],
   "source": [
    "# Working with R-CNNs Understanding the architecture and how it works. "
   ]
  },
  {
   "cell_type": "markdown",
   "metadata": {},
   "source": [
    "## R-CNNs\n",
    "\n",
    "- Main Idea: We use an external algorithm to generate a set of possible bounding boxes that we can classify. RPN + CNN.\n",
    "\n",
    "1. Region Proposal (RPN): Use an external algorithm like (Selective Search) to generate a set of possible bounding boxes that we can classify.\n",
    "2. Extract Region Proposals and then make them square (fixed size)\n",
    "3. Run them through a CNN to describe the region proposals.\n",
    "4. Use the outputted class describing each region. We use Bounding Boxes to refine the region. \n",
    "(The CNN step returns The class label, and the bounding box offsets that we need to apply to the region to get the final bounding box.)\n",
    "\n",
    "(px, py, w, h) are the coordinates of the bounding box. \n",
    "(tx, ty, tw, th) are the transformed coordinates of the bounding box. \n",
    "(bx, by, bh, bw) are the new coordiantes of the region after applying the transformation. \n",
    "\n",
    "Where the transformation is: \n",
    "\n",
    "\n",
    "(px, py) are the coordinates of the top left corner of the bounding box. \n",
    "(w, h) are the width and height of the bounding box. \n",
    "\n",
    "If you see (10, 20, 50 ,60) this mean the top left corner of the bounding box is at (10, 20) and the width and height are 50 and 60 respectively. \n",
    "\n",
    "## Mask R-CNNs vs Faster R-CNN.\n",
    "\n",
    "Mask R-CNN does everything Faster R-CNN does plus it provides a segmentation mask for each object detected, allowing you to distinguish the exact outline of each object, not just the bounding box.\n",
    "\n",
    "\n",
    "In short:\n",
    "\n",
    "R-CNN (Original)\n",
    "- Uses an external algorithm (Selective Search) to generate region proposals.\n",
    "- Classifies each region with a CNN.\n",
    "- Goal: Find bounding boxes and labels for each object.\n",
    "\n",
    "Faster R-CNN\n",
    "\n",
    "- Improves efficiency by introducing a Region Proposal Network (RPN) inside the CNN itself (no more external Selective Search).\n",
    "- Goal: Same outputs (bounding boxes + labels) as R-CNN but faster and more accurate, because region proposals are now learned end-to-end.\n",
    "\n",
    "Mask R-CNN\n",
    "\n",
    "-Extends Faster R-CNN by adding a third “mask” branch for instance segmentation.\n",
    "-Goal: Produce bounding boxes + labels and a pixel-wise mask of each detected object (i.e., the object’s exact outline).\n",
    "\n",
    "NOTE: WE will use a pre defined model which has a CNN backbone included. Modern R-CNNS do not use SVM.\n",
    "A RPN is a region proposal network (something like Selective Search that helps us find possible bounds.)"
   ]
  },
  {
   "cell_type": "markdown",
   "metadata": {},
   "source": []
  },
  {
   "cell_type": "markdown",
   "metadata": {},
   "source": []
  }
 ],
 "metadata": {
  "kernelspec": {
   "display_name": "PyTorch",
   "language": "python",
   "name": "python3"
  },
  "language_info": {
   "codemirror_mode": {
    "name": "ipython",
    "version": 3
   },
   "file_extension": ".py",
   "mimetype": "text/x-python",
   "name": "python",
   "nbconvert_exporter": "python",
   "pygments_lexer": "ipython3",
   "version": "3.11.11"
  }
 },
 "nbformat": 4,
 "nbformat_minor": 2
}
